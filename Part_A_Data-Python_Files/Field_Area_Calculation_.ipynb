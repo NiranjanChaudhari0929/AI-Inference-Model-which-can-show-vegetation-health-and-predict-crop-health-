{
  "nbformat": 4,
  "nbformat_minor": 0,
  "metadata": {
    "colab": {
      "provenance": []
    },
    "kernelspec": {
      "name": "python3",
      "display_name": "Python 3"
    },
    "language_info": {
      "name": "python"
    }
  },
  "cells": [
    {
      "cell_type": "code",
      "source": [
        "!pip install rasterio"
      ],
      "metadata": {
        "id": "45YZF7Ucw9m6"
      },
      "execution_count": null,
      "outputs": []
    },
    {
      "cell_type": "markdown",
      "source": [
        "Following is a method to calcuate the area of the field captured\n",
        "Refer here :https://www.dji.com/global/p4-multispectral/specs\n",
        "\n",
        "---\n",
        "\n"
      ],
      "metadata": {
        "id": "A7JUDj9Fw-32"
      }
    },
    {
      "cell_type": "code",
      "source": [
        "import math\n",
        "\n",
        "def calculate_image_area(sensor_width_mm, sensor_height_mm, focal_length_mm, altitude_m):\n",
        "    # Convert sensor dimensions and focal length to meters\n",
        "    sensor_width_m = sensor_width_mm / 1000\n",
        "    sensor_height_m = sensor_height_mm / 1000\n",
        "    focal_length_m = focal_length_mm / 1000\n",
        "\n",
        "    # Calculate the image area on the ground\n",
        "    image_area = (altitude_m * sensor_width_m / focal_length_m) * (altitude_m * sensor_height_m / focal_length_m)\n",
        "\n",
        "    return image_area\n",
        "\n",
        "# Camera specifications\n",
        "effective_pixels = 2.08  # MP\n",
        "aspect_ratio = 4 / 3.25\n",
        "image_width = 1600  # pixels\n",
        "image_height = 1300  # pixels\n",
        "\n",
        "# Calculate approximate sensor dimensions\n",
        "sensor_width_mm = (effective_pixels * (aspect_ratio)) ** 0.5\n",
        "sensor_height_mm = sensor_width_mm / aspect_ratio\n",
        "\n",
        "rgb_focal_length_mm = 5.74\n",
        "altitude_m = 383.0  # This has to be provided as input which is found using properties of image of Multispectral image\n",
        "\n",
        "# Calculate the area covered by the RGB sensor\n",
        "rgb_area = calculate_image_area(sensor_width_mm, sensor_height_mm, rgb_focal_length_mm, altitude_m)\n",
        "print(\"Estimated area covered by RGB sensor:\", rgb_area, \"square meters\")\n"
      ],
      "metadata": {
        "id": "KOdojPKhw_J_"
      },
      "execution_count": null,
      "outputs": []
    }
  ]
}