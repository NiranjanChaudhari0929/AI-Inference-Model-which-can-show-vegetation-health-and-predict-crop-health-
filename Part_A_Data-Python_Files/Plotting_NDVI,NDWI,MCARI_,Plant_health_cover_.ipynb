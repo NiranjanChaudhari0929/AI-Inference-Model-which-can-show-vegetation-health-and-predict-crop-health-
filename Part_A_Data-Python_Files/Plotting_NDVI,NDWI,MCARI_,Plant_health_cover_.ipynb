{
  "nbformat": 4,
  "nbformat_minor": 0,
  "metadata": {
    "colab": {
      "provenance": []
    },
    "kernelspec": {
      "name": "python3",
      "display_name": "Python 3"
    },
    "language_info": {
      "name": "python"
    }
  },
  "cells": [
    {
      "cell_type": "markdown",
      "source": [
        "import required libraries\n"
      ],
      "metadata": {
        "id": "4BS3GsU3xaNY"
      }
    },
    {
      "cell_type": "code",
      "source": [
        "#import required libraries\n",
        "import rasterio\n",
        "from rasterio import plot\n",
        "import matplotlib.pyplot as plt\n",
        "import numpy as np\n",
        "%matplotlib inline"
      ],
      "metadata": {
        "id": "y9eNdTeOxbHy"
      },
      "execution_count": null,
      "outputs": []
    },
    {
      "cell_type": "markdown",
      "source": [
        "Uploading the multispectral images of the same image\n",
        "\n",
        "\n",
        "\n"
      ],
      "metadata": {
        "id": "RL3WlIJcxd4Y"
      }
    },
    {
      "cell_type": "markdown",
      "source": [
        "Uplaod the images in the google collaboratory interface\n",
        "This will work for any image\n",
        "file ending with 1 is for :blue\n",
        "file ending with 2 is for :green\n",
        "file ending with 3 is for :red\n",
        "file ending with 5 is for :NIR\n"
      ],
      "metadata": {
        "id": "OCTtYfvixiz4"
      }
    },
    {
      "cell_type": "code",
      "source": [
        "band1=rasterio.open('/content/DJI_0051.TIF') #blue\n",
        "band2=rasterio.open('/content/DJI_0052.TIF') #green\n",
        "band3 = rasterio.open('/content/DJI_0053.TIF') #red\n",
        "band5 = rasterio.open('/content/DJI_0055.TIF') #nir"
      ],
      "metadata": {
        "id": "doouL-0QxhDq"
      },
      "execution_count": null,
      "outputs": []
    },
    {
      "cell_type": "markdown",
      "source": [
        "Calculation NIR(Near Infra Red) and Red spectrum"
      ],
      "metadata": {
        "id": "b4koOkY9x5Bz"
      }
    },
    {
      "cell_type": "code",
      "source": [
        "#type of raster byte\n",
        "band3.dtypes[0]\n",
        "#raster sytem of reference\n",
        "band3.crs\n",
        "#raster transform parameters\n",
        "band3.transform\n",
        "#raster values as matrix array\n",
        "band3.read(1)\n",
        "#multiple band representation\n",
        "fig, (ax1, ax2) = plt.subplots(1, 2, figsize=(12, 6))\n",
        "\n",
        "\n",
        "plot.show(band3, ax=ax1, cmap='Blues') #red\n",
        "plot.show(band5, ax=ax2, cmap='Blues') #nir\n",
        "fig.tight_layout()\n",
        "#generate nir and red objects as arrays in float64 format\n",
        "red = band3.read(1).astype('float64')\n",
        "nir = band5.read(1).astype('float64')\n",
        "\n",
        "nir"
      ],
      "metadata": {
        "id": "jRoxJw4Wx5pS"
      },
      "execution_count": null,
      "outputs": []
    },
    {
      "cell_type": "markdown",
      "source": [
        "Calcuation of Blue and Green spectrum"
      ],
      "metadata": {
        "id": "Y792pDXux8iC"
      }
    },
    {
      "cell_type": "code",
      "source": [
        "#type of raster byte\n",
        "band1.dtypes[0]\n",
        "#raster sytem of reference\n",
        "band1.crs\n",
        "#raster transform parameters\n",
        "band3.transform\n",
        "#raster values as matrix array\n",
        "band1.read(1)\n",
        "#multiple band representation\n",
        "fig, (ax1, ax2) = plt.subplots(1, 2, figsize=(12, 6))\n",
        "\n",
        "\n",
        "plot.show(band1, ax=ax1, cmap='Blues') #blue\n",
        "plot.show(band2, ax=ax2, cmap='Blues') #green\n",
        "fig.tight_layout()\n",
        "#generate nir and red objects as arrays in float64 format\n",
        "blue = band1.read(1).astype('float64')\n",
        "green = band2.read(1).astype('float64')\n",
        "\n",
        "green"
      ],
      "metadata": {
        "id": "h3CedOiox_Xs"
      },
      "execution_count": null,
      "outputs": []
    },
    {
      "cell_type": "markdown",
      "source": [
        "Calculating NDVI value"
      ],
      "metadata": {
        "id": "d3Oi2fkOyBEq"
      }
    },
    {
      "cell_type": "markdown",
      "source": [
        "Normalized Difference Vegetation Index (NDVI)\n",
        "\n",
        "\n"
      ],
      "metadata": {
        "id": "Gfe3DdSvyD7a"
      }
    },
    {
      "cell_type": "code",
      "source": [
        "#ndvi calculation, empty cells or nodata cells are reported as 0\n",
        "ndvi=np.where(\n",
        "    (nir+red)==0.,\n",
        "    0,\n",
        "    (nir-red)/(nir+red))\n",
        "ndvi[:5,:5]  #this only prints first 5 rows and first 5 columns"
      ],
      "metadata": {
        "id": "9raYuIy-yA2b"
      },
      "execution_count": null,
      "outputs": []
    },
    {
      "cell_type": "markdown",
      "source": [
        "Normalized Difference Water Index (NDWI)\n"
      ],
      "metadata": {
        "id": "lMI-SN-GyIPo"
      }
    },
    {
      "cell_type": "code",
      "source": [
        "#ndvi calculation, empty cells or no data cells are reported as 0\n",
        "ndwi=np.where(\n",
        "    (green+nir)==0.,\n",
        "    0,\n",
        "    (nir-green)/(nir+green))\n",
        "ndwi[:5,:5]"
      ],
      "metadata": {
        "id": "82pa8YCKyLAa"
      },
      "execution_count": null,
      "outputs": []
    },
    {
      "cell_type": "markdown",
      "source": [
        "Expiratory variability index (EVI)"
      ],
      "metadata": {
        "id": "Y0qLPWmvyN-A"
      }
    },
    {
      "cell_type": "code",
      "source": [
        "#ndvi calculation, empty cells or no data cells are reported as 0\n",
        "evi=np.where(\n",
        "    (nir + (6 * red) - (7.5 * blue) + 1)==0.,\n",
        "    0,\n",
        "    2.5 * ((nir - red) / (nir + (6 * red) - (7.5 * blue) + 1)))\n",
        "evi[:5,:5]\n"
      ],
      "metadata": {
        "id": "Jm56C-9vyOva"
      },
      "execution_count": null,
      "outputs": []
    },
    {
      "cell_type": "markdown",
      "source": [
        "Changing sign of elements as the formula applied above was inverse"
      ],
      "metadata": {
        "id": "nUH_w926yP-I"
      }
    },
    {
      "cell_type": "code",
      "source": [
        "#ndvi calculation, empty cells or no data cells are reported as 0\n",
        "evi=np.where(\n",
        "    (nir + (6 * red) - (7.5 * blue) + 1)==0.,\n",
        "    0,\n",
        "    2.5 * ((nir - red) / (nir + (6 * red) - (7.5 * blue) + 1)))\n",
        "evi[:5,:5]\n"
      ],
      "metadata": {
        "id": "mNZUJeoEyQbg"
      },
      "execution_count": null,
      "outputs": []
    },
    {
      "cell_type": "markdown",
      "source": [
        "MCARI index"
      ],
      "metadata": {
        "id": "WnpOCCDgydnK"
      }
    },
    {
      "cell_type": "code",
      "source": [
        "# Assuming you have the values for the Near-Infrared (nir) and Red (red) bands\n",
        "\n",
        "# Calculate MCARI, handling empty cells or nodata cells\n",
        "mcari_condition = (nir - red) - 0.2 * (nir - red) * (nir / red)\n",
        "mcari = np.where(mcari_condition, mcari_condition, np.nan)\n",
        "\n",
        "# Printing the first 5x5 values of the calculated MCARI\n",
        "print(mcari[:5, :5])\n"
      ],
      "metadata": {
        "id": "QPdNh7TAye3K"
      },
      "execution_count": null,
      "outputs": []
    },
    {
      "cell_type": "markdown",
      "source": [
        "Printing the indices on a color gradient plot"
      ],
      "metadata": {
        "id": "sIqJdLwNymBA"
      }
    },
    {
      "cell_type": "markdown",
      "source": [],
      "metadata": {
        "id": "_fUtGCs_yuTI"
      }
    },
    {
      "cell_type": "code",
      "source": [
        "import os\n",
        "\n",
        "output_directory = '../Output/'\n",
        "if not os.path.exists(output_directory):\n",
        "    os.makedirs(output_directory)"
      ],
      "metadata": {
        "id": "pF_OZX0xyupA"
      },
      "execution_count": null,
      "outputs": []
    },
    {
      "cell_type": "markdown",
      "source": [
        "NDVI plotting"
      ],
      "metadata": {
        "id": "tDM0OPxjyxoA"
      }
    },
    {
      "cell_type": "code",
      "source": [
        "import rasterio\n",
        "import matplotlib.pyplot as plt\n",
        "import os\n",
        "\n",
        "# Assuming you have already calculated the NDVI and have the variables 'ndvi' and 'band4' available\n",
        "\n",
        "# Create the output directory if it doesn't exist\n",
        "output_directory = '../Output/'\n",
        "if not os.path.exists(output_directory):\n",
        "    os.makedirs(output_directory)\n",
        "\n",
        "# Export NDVI image\n",
        "ndviImage = rasterio.open(output_directory + 'ndviImage.tiff', 'w', driver='Gtiff',\n",
        "                          width=band3.width,\n",
        "                          height=band3.height,\n",
        "                          count=1, crs=band3.crs,\n",
        "                          transform=band3.transform,\n",
        "                          dtype='float64')\n",
        "ndviImage.write(ndvi, 1)\n",
        "ndviImage.close()\n",
        "\n",
        "# Plot NDVI\n",
        "ndvi_data = rasterio.open(output_directory + 'ndviImage.tiff')\n",
        "fig = plt.figure(figsize=(18, 12))\n",
        "plt.imshow(ndvi_data.read(1), cmap='viridis')  # Assuming NDVI is in band 1\n",
        "plt.title('NDVI Image')\n",
        "plt.colorbar(label='NDVI Value')\n",
        "plt.show()\n",
        "plt.savefig('/ndvi_plot.png')\n",
        "plt.savefig('/content/ndvi.png')\n",
        "\n",
        "\n"
      ],
      "metadata": {
        "id": "Dk62BR-sywAo"
      },
      "execution_count": null,
      "outputs": []
    },
    {
      "cell_type": "markdown",
      "source": [
        "Plotting NDWI on color graded plot"
      ],
      "metadata": {
        "id": "8WWNOYCAyy5p"
      }
    },
    {
      "cell_type": "code",
      "source": [
        "import os\n",
        "\n",
        "output_directory = '../Output/'\n",
        "if not os.path.exists(output_directory):\n",
        "    os.makedirs(output_directory)"
      ],
      "metadata": {
        "id": "0mJEYiSmy0nC"
      },
      "execution_count": null,
      "outputs": []
    },
    {
      "cell_type": "code",
      "source": [
        "import rasterio\n",
        "import matplotlib.pyplot as plt\n",
        "import os\n",
        "\n",
        "# Assuming you have already calculated the NDVI and have the variables 'ndvi' and 'band4' available\n",
        "\n",
        "# Create the output directory if it doesn't exist\n",
        "output_directory = '../Output/'\n",
        "if not os.path.exists(output_directory):\n",
        "    os.makedirs(output_directory)\n",
        "\n",
        "# Export NDVI image\n",
        "ndwiImage = rasterio.open(output_directory + 'ndwiImage.tiff', 'w', driver='Gtiff',\n",
        "                          width=band1.width,\n",
        "                          height=band1.height,\n",
        "                          count=1, crs=band1.crs,\n",
        "                          transform=band1.transform,\n",
        "                          dtype='float64')\n",
        "ndwiImage.write(ndwi, 1)\n",
        "ndwiImage.close()\n",
        "\n",
        "# Plot NDVI\n",
        "ndwi_data = rasterio.open(output_directory + 'ndwiImage.tiff')\n",
        "fig = plt.figure(figsize=(18, 12))\n",
        "plt.imshow(ndwi_data.read(1), cmap='viridis')  # Assuming NDVI is in band 1\n",
        "plt.title('NDWI Image')\n",
        "plt.colorbar(label='NDWI Value')\n",
        "plt.show()\n",
        "plt.savefig('/content/ndwi.png')\n"
      ],
      "metadata": {
        "id": "DeEpCEBay0_A"
      },
      "execution_count": null,
      "outputs": []
    },
    {
      "cell_type": "markdown",
      "source": [
        "MCARI Plot"
      ],
      "metadata": {
        "id": "4XPt5rcUy7Nh"
      }
    },
    {
      "cell_type": "code",
      "source": [
        "import os\n",
        "\n",
        "output_directory = '../Output/'\n",
        "if not os.path.exists(output_directory):\n",
        "    os.makedirs(output_directory)"
      ],
      "metadata": {
        "id": "vLUY4ik8y7d5"
      },
      "execution_count": null,
      "outputs": []
    },
    {
      "cell_type": "code",
      "source": [
        "import rasterio\n",
        "import matplotlib.pyplot as plt\n",
        "import os\n",
        "\n",
        "# Assuming you have already calculated the NDVI and have the variables 'ndvi' and 'band4' available\n",
        "\n",
        "# Create the output directory if it doesn't exist\n",
        "output_directory = '../Output/'\n",
        "if not os.path.exists(output_directory):\n",
        "    os.makedirs(output_directory)\n",
        "\n",
        "# Export NDVI image\n",
        "mcariImage = rasterio.open(output_directory + 'mcariImage.tiff', 'w', driver='Gtiff',\n",
        "                          width=band3.width,\n",
        "                          height=band3.height,\n",
        "                          count=1, crs=band3.crs,\n",
        "                          transform=band3.transform,\n",
        "                          dtype='float64')\n",
        "mcariImage.write(mcari, 1)\n",
        "mcariImage.close()\n",
        "\n",
        "# Plot NDVI\n",
        "mcari_data = rasterio.open(output_directory + 'mcariImage.tiff')\n",
        "fig = plt.figure(figsize=(18, 12))\n",
        "plt.imshow(mcari_data.read(1), cmap='viridis')  # Assuming NDVI is in band 1\n",
        "plt.title('MCARI Image')\n",
        "plt.colorbar(label='MCARI Value')\n",
        "plt.show()\n"
      ],
      "metadata": {
        "id": "q-TopkFyy7xR"
      },
      "execution_count": null,
      "outputs": []
    },
    {
      "cell_type": "markdown",
      "source": [
        "(MCARI) have been used to measure canopy cover and chlorophyll content of plants\n"
      ],
      "metadata": {
        "id": "rCDIKaiizDba"
      }
    },
    {
      "cell_type": "code",
      "source": [
        "import os\n",
        "\n",
        "output_directory = '../Output/'\n",
        "if not os.path.exists(output_directory):\n",
        "    os.makedirs(output_directory)"
      ],
      "metadata": {
        "id": "lArLQX9KzDsL"
      },
      "execution_count": null,
      "outputs": []
    },
    {
      "cell_type": "code",
      "source": [
        "import rasterio\n",
        "import matplotlib.pyplot as plt\n",
        "import os\n",
        "\n",
        "# Assuming you have already calculated the EVI and have the variables 'evi' and 'band3' available\n",
        "\n",
        "# Create the output directory if it doesn't exist\n",
        "output_directory = '../Output/'\n",
        "if not os.path.exists(output_directory):\n",
        "    os.makedirs(output_directory)\n",
        "\n",
        "# Export EVI image\n",
        "eviImage = rasterio.open(output_directory + 'eviImage.tiff', 'w', driver='Gtiff',\n",
        "                          width=band3.width,\n",
        "                          height=band3.height,\n",
        "                          count=1, crs=band3.crs,\n",
        "                          transform=band3.transform,\n",
        "                          dtype='float64')\n",
        "eviImage.write(evi, 1)\n",
        "eviImage.close()\n",
        "\n",
        "# Plot EVI\n",
        "evi_data = rasterio.open(output_directory + 'eviImage.tiff')\n",
        "fig = plt.figure(figsize=(18, 12))\n",
        "\n",
        "# Specify the desired range for the color bar\n",
        "vmin = +1  # Replace with your desired minimum value\n",
        "vmax = -1   # Replace with your desired maximum value\n",
        "\n",
        "plt.imshow(evi_data.read(1), cmap='viridis', vmin=vmin, vmax=vmax)  # Assuming EVI is in band 1\n",
        "plt.title('EVI Image')\n",
        "plt.colorbar(label='EVI Value')\n",
        "plt.show()\n",
        "\n",
        "\n"
      ],
      "metadata": {
        "id": "95_xEQq5zD_7"
      },
      "execution_count": null,
      "outputs": []
    },
    {
      "cell_type": "markdown",
      "source": [
        "FInding healthy and Unhealthy plant cover"
      ],
      "metadata": {
        "id": "jyyfYLtdzP_o"
      }
    },
    {
      "cell_type": "markdown",
      "source": [
        "Concept obtained from research popers:\n",
        "\n",
        "EVI value\n",
        "Between 0.2 to 0.8 is healthy\n",
        "As we go close to 0 it is unhealthy"
      ],
      "metadata": {
        "id": "8ZYKGTJSzThQ"
      }
    },
    {
      "cell_type": "code",
      "source": [
        "#finding the size of our arrays\n",
        "print(evi.size)\n",
        "print(ndvi.size)\n",
        "print(ndwi.size)\n",
        "#proceed if evryone has same size\n",
        "\n",
        "#define various parameters\n",
        "unhealthy=0\n",
        "sparse=0\n",
        "moderate=0\n",
        "healthy=0\n",
        "\n",
        "\n",
        "for i in range(len(ndvi)):\n",
        "  for j in range(len(ndvi[0])):\n",
        "    if(0<ndvi[i][j]<0.2):\n",
        "      sparse+=1\n",
        "    elif(0.2<ndvi[i][j]<0.5):\n",
        "      moderate+=1\n",
        "    elif(ndvi[i][j]>0.5):\n",
        "      healthy+=1\n",
        "    else:\n",
        "      unhealthy+=1\n",
        "\n",
        "\n",
        "print((unhealthy/ndvi.size)*100)\n",
        "print((sparse/ndvi.size)*100)\n",
        "print((moderate/ndvi.size)*100)\n",
        "print((healthy/ndvi.size)*100)"
      ],
      "metadata": {
        "id": "rNy-8vMHzaNg"
      },
      "execution_count": null,
      "outputs": []
    },
    {
      "cell_type": "markdown",
      "source": [
        "This Plot shows the index on the gradient scale"
      ],
      "metadata": {
        "id": "06kCVvgYzkvx"
      }
    },
    {
      "cell_type": "code",
      "source": [
        "import numpy as np\n",
        "import matplotlib.pyplot as plt\n",
        "from matplotlib.colors import ListedColormap\n",
        "\n",
        "# Define the NDVI values and their corresponding colors\n",
        "ndvi_ranges = [-1, 0.2, 0.5, 1]\n",
        "colors = ['blue', 'red', 'green', 'yellow']\n",
        "\n",
        "# Create a colormap with specified colors for each NDVI range\n",
        "cmap = ListedColormap(colors)\n",
        "\n",
        "# Assuming you have already calculated the NDVI and have the variable 'ndvi' available\n",
        "# Replace this with your actual NDVI values\n",
        "\n",
        "# Plot NDVI with custom colormap\n",
        "fig = plt.figure(figsize=(18, 12))\n",
        "plt.imshow(ndvi, cmap=cmap, vmin=-1, vmax=1)  # Set the min and max values for the color map\n",
        "plt.title('NDVI Image with Custom Colormap')\n",
        "plt.colorbar(label='NDVI Value')\n",
        "plt.show()\n",
        "plt.savefig('/content/final.png')\n"
      ],
      "metadata": {
        "id": "3uMMWi5Izk-4"
      },
      "execution_count": null,
      "outputs": []
    },
    {
      "cell_type": "markdown",
      "source": [
        "This Plot shows the type of vegetation  on the gradient scale"
      ],
      "metadata": {
        "id": "pZk3ntfRzllT"
      }
    },
    {
      "cell_type": "code",
      "source": [
        "import numpy as np\n",
        "import matplotlib.pyplot as plt\n",
        "from matplotlib.colors import ListedColormap\n",
        "\n",
        "# Define the NDVI values and their corresponding colors\n",
        "ndvi_ranges = [-1, 0.2, 0.5, 1]\n",
        "colors = ['blue', 'red', 'green', 'yellow']\n",
        "\n",
        "# Create a colormap with specified colors for each NDVI range\n",
        "cmap = ListedColormap(colors)\n",
        "\n",
        "# Assuming you have already calculated the NDVI and have the variable 'ndvi' available\n",
        "# Replace this with your actual NDVI values\n",
        "\n",
        "# Plot NDVI with custom colormap\n",
        "fig = plt.figure(figsize=(18, 12))\n",
        "plt.imshow(ndvi, cmap=cmap, vmin=-1, vmax=1)  # Set the min and max values for the color map\n",
        "plt.title('NDVI Image with Custom Colormap')\n",
        "\n",
        "# Create a colorbar with legend labels corresponding to the NDVI ranges\n",
        "cbar = plt.colorbar(cmap=cmap, ticks=np.linspace(-1, 1, len(ndvi_ranges)))\n",
        "cbar.ax.set_yticklabels(['Unhealthy', 'Sparse', 'Moderate', 'Healthy'])\n",
        "\n",
        "plt.show()\n",
        "plt.savefig('/content/final.png')\n"
      ],
      "metadata": {
        "id": "KJ0xIa6Izl2w"
      },
      "execution_count": null,
      "outputs": []
    }
  ]
}