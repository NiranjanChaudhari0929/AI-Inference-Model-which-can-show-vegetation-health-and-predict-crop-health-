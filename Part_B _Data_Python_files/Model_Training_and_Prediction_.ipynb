{
  "nbformat": 4,
  "nbformat_minor": 0,
  "metadata": {
    "colab": {
      "provenance": []
    },
    "kernelspec": {
      "name": "python3",
      "display_name": "Python 3"
    },
    "language_info": {
      "name": "python"
    }
  },
  "cells": [
    {
      "cell_type": "markdown",
      "source": [
        "There are three folder named 1 ,2 ,3 in the main folder\n",
        "1->represents the chronological data used for developing column 1\n",
        "2->represents the chronological data used for developing column 2\n",
        "3->represents the chronological data used for developing column 3"
      ],
      "metadata": {
        "id": "24Sl2LK2B2Aa"
      }
    },
    {
      "cell_type": "markdown",
      "source": [
        "Importing Libraries"
      ],
      "metadata": {
        "id": "ri0-Tp4u_a9L"
      }
    },
    {
      "cell_type": "code",
      "source": [
        "!pip install rasterio\n",
        "#import required libraries\n",
        "import rasterio\n",
        "from rasterio import plot\n",
        "import matplotlib.pyplot as plt\n",
        "import numpy as np\n",
        "%matplotlib inline"
      ],
      "metadata": {
        "id": "fdEVZUQw_aUE"
      },
      "execution_count": null,
      "outputs": []
    },
    {
      "cell_type": "markdown",
      "source": [
        "1)We shall be using two CSV files as the number of pixels exceed the limit of single CSV file\n",
        "2)We shall develop 3 columns of chornoligical data .\n",
        "3)The health shall be determined based on range of NDVI values otbtained\n",
        "4)Here value represents the NDVI value\n",
        "5)we shall be having 4 classes\n",
        "    if 0 < value < 0.2:\n",
        "        sparse += 1\n",
        "    elif 0.2 < value < 0.5:\n",
        "        moderate += 1\n",
        "    elif value >= 0.5:\n",
        "        healthy += 1\n",
        "    else:\n",
        "        unhealthy += 1"
      ],
      "metadata": {
        "id": "o64tQ1Uq_hRy"
      }
    },
    {
      "cell_type": "markdown",
      "source": [
        "The date and folder is specified beside each of the images imported"
      ],
      "metadata": {
        "id": "SLRLvSc3BQL4"
      }
    },
    {
      "cell_type": "markdown",
      "source": [
        "Developing column 1 in our CSV file"
      ],
      "metadata": {
        "id": "zNQxI-LA_dw5"
      }
    },
    {
      "cell_type": "code",
      "source": [
        "band1=rasterio.open('/content/2_1_1.TIF') #blue //component1>>flight session 2 >> 22-06-08 >>100FPLAN >> DJI 0010\n",
        "band2=rasterio.open('/content/2_1_2.TIF') #green\n",
        "band3 = rasterio.open('/content/2_1_3.TIF') #red\n",
        "band5 = rasterio.open('/content/2_1_5.TIF') #nir"
      ],
      "metadata": {
        "id": "YXtBdhAuAIHC"
      },
      "execution_count": null,
      "outputs": []
    },
    {
      "cell_type": "code",
      "source": [
        "#type of raster byte\n",
        "band3.dtypes[0]\n",
        "#raster sytem of reference\n",
        "band3.crs\n",
        "#raster transform parameters\n",
        "band3.transform\n",
        "#raster values as matrix array\n",
        "band3.read(1)\n",
        "#multiple band representation\n",
        "fig, (ax1, ax2) = plt.subplots(1, 2, figsize=(12, 6))\n",
        "\n",
        "\n",
        "plot.show(band3, ax=ax1, cmap='Blues') #red\n",
        "plot.show(band5, ax=ax2, cmap='Blues') #nir\n",
        "fig.tight_layout()\n",
        "#generate nir and red objects as arrays in float64 format\n",
        "red = band3.read(1).astype('float64')\n",
        "nir = band5.read(1).astype('float64')\n",
        "\n",
        "nir\n",
        "\n",
        "#type of raster byte\n",
        "band1.dtypes[0]\n",
        "#raster sytem of reference\n",
        "band1.crs\n",
        "#raster transform parameters\n",
        "band3.transform\n",
        "#raster values as matrix array\n",
        "band1.read(1)\n",
        "#multiple band representation\n",
        "fig, (ax1, ax2) = plt.subplots(1, 2, figsize=(12, 6))\n",
        "\n",
        "\n",
        "plot.show(band1, ax=ax1, cmap='Blues') #blue\n",
        "plot.show(band2, ax=ax2, cmap='Blues') #green\n",
        "fig.tight_layout()\n",
        "#generate nir and red objects as arrays in float64 format\n",
        "blue = band1.read(1).astype('float64')\n",
        "green = band2.read(1).astype('float64')\n",
        "\n",
        "green\n",
        "\n",
        "\n",
        "#ndvi calculation, empty cells or nodata cells are reported as 0\n",
        "ndvi1=np.where(\n",
        "    (nir+red)==0.,\n",
        "    0,\n",
        "    (nir-red)/(nir+red))\n",
        "ndvi1[:5,:5]  #this only prints first 5 rows and first 5 columns\n",
        "\n",
        "import os\n",
        "\n",
        "output_directory = '../Output/'\n",
        "if not os.path.exists(output_directory):\n",
        "    os.makedirs(output_directory)\n",
        "\n",
        "import rasterio\n",
        "import matplotlib.pyplot as plt\n",
        "import os\n",
        "\n",
        "# Assuming you have already calculated the NDVI and have the variables 'ndvi' and 'band4' available\n",
        "\n",
        "# Create the output directory if it doesn't exist\n",
        "output_directory = '../Output/'\n",
        "if not os.path.exists(output_directory):\n",
        "    os.makedirs(output_directory)\n",
        "\n",
        "# Export NDVI image\n",
        "ndviImage = rasterio.open(output_directory + 'ndviImage.tiff', 'w', driver='Gtiff',\n",
        "                          width=band3.width,\n",
        "                          height=band3.height,\n",
        "                          count=1, crs=band3.crs,\n",
        "                          transform=band3.transform,\n",
        "                          dtype='float64')\n",
        "ndviImage.write(ndvi1, 1)\n",
        "ndviImage.close()\n",
        "\n",
        "# Plot NDVI\n",
        "ndvi_data = rasterio.open(output_directory + 'ndviImage.tiff')\n",
        "fig = plt.figure(figsize=(18, 12))\n",
        "plt.imshow(ndvi_data.read(1), cmap='viridis')  # Assuming NDVI is in band 1\n",
        "plt.title('NDVI Image')\n",
        "plt.colorbar(label='NDVI Value')\n",
        "plt.show()\n",
        "plt.savefig('/ndvi_plot.png')\n",
        "plt.savefig('/content/ndvi1.png')\n",
        "\n",
        "\n"
      ],
      "metadata": {
        "id": "vKELeQj9AIih"
      },
      "execution_count": null,
      "outputs": []
    },
    {
      "cell_type": "markdown",
      "source": [
        "Developing column 2"
      ],
      "metadata": {
        "id": "aohYqemUALb0"
      }
    },
    {
      "cell_type": "code",
      "source": [
        "band1=rasterio.open('/content/3_1_1.TIF') #blue  //component1 part 3-4>>flight session3>>2022-06-21>>100FPLAN\n",
        "band2=rasterio.open('/content/3_1_2.TIF') #green\n",
        "band3 = rasterio.open('/content/3_1_3.TIF') #red\n",
        "band5 = rasterio.open('/content/3_1_5.TIF') #nir"
      ],
      "metadata": {
        "id": "4Gr_HpnoALFs"
      },
      "execution_count": null,
      "outputs": []
    },
    {
      "cell_type": "code",
      "source": [
        "#type of raster byte\n",
        "band3.dtypes[0]\n",
        "#raster sytem of reference\n",
        "band3.crs\n",
        "#raster transform parameters\n",
        "band3.transform\n",
        "#raster values as matrix array\n",
        "band3.read(1)\n",
        "#multiple band representation\n",
        "fig, (ax1, ax2) = plt.subplots(1, 2, figsize=(12, 6))\n",
        "\n",
        "\n",
        "plot.show(band3, ax=ax1, cmap='Blues') #red\n",
        "plot.show(band5, ax=ax2, cmap='Blues') #nir\n",
        "fig.tight_layout()\n",
        "#generate nir and red objects as arrays in float64 format\n",
        "red = band3.read(1).astype('float64')\n",
        "nir = band5.read(1).astype('float64')\n",
        "\n",
        "nir\n",
        "\n",
        "#type of raster byte\n",
        "band1.dtypes[0]\n",
        "#raster sytem of reference\n",
        "band1.crs\n",
        "#raster transform parameters\n",
        "band3.transform\n",
        "#raster values as matrix array\n",
        "band1.read(1)\n",
        "#multiple band representation\n",
        "fig, (ax1, ax2) = plt.subplots(1, 2, figsize=(12, 6))\n",
        "\n",
        "\n",
        "plot.show(band1, ax=ax1, cmap='Blues') #blue\n",
        "plot.show(band2, ax=ax2, cmap='Blues') #green\n",
        "fig.tight_layout()\n",
        "#generate nir and red objects as arrays in float64 format\n",
        "blue = band1.read(1).astype('float64')\n",
        "green = band2.read(1).astype('float64')\n",
        "\n",
        "green\n",
        "\n",
        "\n",
        "#ndvi calculation, empty cells or nodata cells are reported as 0\n",
        "ndvi2=np.where(\n",
        "    (nir+red)==0.,\n",
        "    0,\n",
        "    (nir-red)/(nir+red))\n",
        "ndvi2[:5,:5]  #this only prints first 5 rows and first 5 columns\n",
        "\n",
        "import os\n",
        "\n",
        "output_directory = '../Output/'\n",
        "if not os.path.exists(output_directory):\n",
        "    os.makedirs(output_directory)\n",
        "\n",
        "import rasterio\n",
        "import matplotlib.pyplot as plt\n",
        "import os\n",
        "\n",
        "# Assuming you have already calculated the NDVI and have the variables 'ndvi' and 'band4' available\n",
        "\n",
        "# Create the output directory if it doesn't exist\n",
        "output_directory = '../Output/'\n",
        "if not os.path.exists(output_directory):\n",
        "    os.makedirs(output_directory)\n",
        "\n",
        "# Export NDVI image\n",
        "ndviImage = rasterio.open(output_directory + 'ndviImage.tiff', 'w', driver='Gtiff',\n",
        "                          width=band3.width,\n",
        "                          height=band3.height,\n",
        "                          count=1, crs=band3.crs,\n",
        "                          transform=band3.transform,\n",
        "                          dtype='float64')\n",
        "ndviImage.write(ndvi2, 1)\n",
        "ndviImage.close()\n",
        "\n",
        "# Plot NDVI\n",
        "ndvi_data = rasterio.open(output_directory + 'ndviImage.tiff')\n",
        "fig = plt.figure(figsize=(18, 12))\n",
        "plt.imshow(ndvi_data.read(1), cmap='viridis')  # Assuming NDVI is in band 1\n",
        "plt.title('NDVI Image')\n",
        "plt.colorbar(label='NDVI Value')\n",
        "plt.show()\n",
        "plt.savefig('/ndvi_plot.png')\n",
        "plt.savefig('/content/ndvi2.png')\n",
        "\n",
        "\n"
      ],
      "metadata": {
        "id": "JurbHhvEAOyy"
      },
      "execution_count": null,
      "outputs": []
    },
    {
      "cell_type": "markdown",
      "source": [
        "Developing Column 3"
      ],
      "metadata": {
        "id": "Ma7Aio_MASPJ"
      }
    },
    {
      "cell_type": "code",
      "source": [
        "band1=rasterio.open('/content/4_1_1.TIF') #blue //component 1 part 3-4 >>flight sess 4>> 2022-7-11>>100FPLAN\n",
        "band2=rasterio.open('/content/4_1_2.TIF') #green\n",
        "band3 = rasterio.open('/content/4_1_3.TIF') #red\n",
        "band5 = rasterio.open('/content/4_1_5.TIF') #nir"
      ],
      "metadata": {
        "id": "ebsI5NpRASgT"
      },
      "execution_count": null,
      "outputs": []
    },
    {
      "cell_type": "code",
      "source": [
        "#type of raster byte\n",
        "band3.dtypes[0]\n",
        "#raster sytem of reference\n",
        "band3.crs\n",
        "#raster transform parameters\n",
        "band3.transform\n",
        "#raster values as matrix array\n",
        "band3.read(1)\n",
        "#multiple band representation\n",
        "fig, (ax1, ax2) = plt.subplots(1, 2, figsize=(12, 6))\n",
        "\n",
        "\n",
        "plot.show(band3, ax=ax1, cmap='Blues') #red\n",
        "plot.show(band5, ax=ax2, cmap='Blues') #nir\n",
        "fig.tight_layout()\n",
        "#generate nir and red objects as arrays in float64 format\n",
        "red = band3.read(1).astype('float64')\n",
        "nir = band5.read(1).astype('float64')\n",
        "\n",
        "nir\n",
        "\n",
        "#type of raster byte\n",
        "band1.dtypes[0]\n",
        "#raster sytem of reference\n",
        "band1.crs\n",
        "#raster transform parameters\n",
        "band3.transform\n",
        "#raster values as matrix array\n",
        "band1.read(1)\n",
        "#multiple band representation\n",
        "fig, (ax1, ax2) = plt.subplots(1, 2, figsize=(12, 6))\n",
        "\n",
        "\n",
        "plot.show(band1, ax=ax1, cmap='Blues') #blue\n",
        "plot.show(band2, ax=ax2, cmap='Blues') #green\n",
        "fig.tight_layout()\n",
        "#generate nir and red objects as arrays in float64 format\n",
        "blue = band1.read(1).astype('float64')\n",
        "green = band2.read(1).astype('float64')\n",
        "\n",
        "green\n",
        "\n",
        "\n",
        "#ndvi calculation, empty cells or nodata cells are reported as 0\n",
        "ndvi3=np.where(\n",
        "    (nir+red)==0.,\n",
        "    0,\n",
        "    (nir-red)/(nir+red))\n",
        "ndvi3[:5,:5]  #this only prints first 5 rows and first 5 columns\n",
        "\n",
        "import os\n",
        "\n",
        "output_directory = '../Output/'\n",
        "if not os.path.exists(output_directory):\n",
        "    os.makedirs(output_directory)\n",
        "\n",
        "import rasterio\n",
        "import matplotlib.pyplot as plt\n",
        "import os\n",
        "\n",
        "# Assuming you have already calculated the NDVI and have the variables 'ndvi' and 'band4' available\n",
        "\n",
        "# Create the output directory if it doesn't exist\n",
        "output_directory = '../Output/'\n",
        "if not os.path.exists(output_directory):\n",
        "    os.makedirs(output_directory)\n",
        "\n",
        "# Export NDVI image\n",
        "ndviImage = rasterio.open(output_directory + 'ndviImage.tiff', 'w', driver='Gtiff',\n",
        "                          width=band3.width,\n",
        "                          height=band3.height,\n",
        "                          count=1, crs=band3.crs,\n",
        "                          transform=band3.transform,\n",
        "                          dtype='float64')\n",
        "ndviImage.write(ndvi3, 1)\n",
        "ndviImage.close()\n",
        "\n",
        "# Plot NDVI\n",
        "ndvi_data = rasterio.open(output_directory + 'ndviImage.tiff')\n",
        "fig = plt.figure(figsize=(18, 12))\n",
        "plt.imshow(ndvi_data.read(1), cmap='viridis')  # Assuming NDVI is in band 1\n",
        "plt.title('NDVI Image')\n",
        "plt.colorbar(label='NDVI Value')\n",
        "plt.show()\n",
        "plt.savefig('/ndvi_plot.png')\n",
        "plt.savefig('/content/ndvi3.png')\n",
        "\n",
        "\n"
      ],
      "metadata": {
        "id": "8iDsIjK9ASvx"
      },
      "execution_count": null,
      "outputs": []
    },
    {
      "cell_type": "markdown",
      "source": [
        "The training and testing data has ben developed"
      ],
      "metadata": {
        "id": "-P2agfgHAZia"
      }
    },
    {
      "cell_type": "markdown",
      "source": [
        "Moving on to the Model development"
      ],
      "metadata": {
        "id": "z6ix0xlPAdJw"
      }
    },
    {
      "cell_type": "code",
      "source": [
        "import pandas as pd\n",
        "import numpy as np\n",
        "\n",
        "# Assuming 'ndvi1', 'ndvi2', and 'ndvi3' are your multidimensional NDVI arrays\n",
        "# Modify these arrays with your actual data\n",
        "\n",
        "# Flatten the arrays\n",
        "ndvi1_flat = ndvi1.flatten()\n",
        "ndvi2_flat = ndvi2.flatten()\n",
        "ndvi3_flat = ndvi3.flatten()\n",
        "\n",
        "# Split your data into two parts\n",
        "split_index = len(ndvi1_flat) // 2\n",
        "\n",
        "# Create dictionaries with columns for each part\n",
        "ndvi_data_part1 = {'NDVI1': ndvi1_flat[:split_index], 'NDVI2': ndvi2_flat[:split_index], 'NDVI3': ndvi3_flat[:split_index]}\n",
        "ndvi_data_part2 = {'NDVI1': ndvi1_flat[split_index:], 'NDVI2': ndvi2_flat[split_index:], 'NDVI3': ndvi3_flat[split_index:]}\n",
        "\n",
        "# Create DataFrames for each part\n",
        "df_part1 = pd.DataFrame(ndvi_data_part1)\n",
        "df_part2 = pd.DataFrame(ndvi_data_part2)\n",
        "\n",
        "# Define the paths to the CSV files where you want to save the data\n",
        "csv_file_path_part1 = 'ndvi_values_part1.csv'\n",
        "csv_file_path_part2 = 'ndvi_values_part2.csv'\n",
        "\n",
        "# Save each DataFrame to a separate CSV file\n",
        "df_part1.to_csv(csv_file_path_part1, index=False)\n",
        "df_part2.to_csv(csv_file_path_part2, index=False)\n"
      ],
      "metadata": {
        "id": "uy2ZiOErAhuj"
      },
      "execution_count": null,
      "outputs": []
    },
    {
      "cell_type": "markdown",
      "source": [
        "Model has been developed"
      ],
      "metadata": {
        "id": "dyKlZnVbAjpK"
      }
    },
    {
      "cell_type": "markdown",
      "source": [
        "Proceed to prediction of values"
      ],
      "metadata": {
        "id": "8hFaQgqDAk5w"
      }
    },
    {
      "cell_type": "code",
      "source": [
        "import pandas as pd\n",
        "import numpy as np\n",
        "\n",
        "# Load the CSV files for three consecutive days (replace with your file paths)\n",
        "data_day1 = pd.read_csv('/content/ndvi_values_part1.csv')\n",
        "data_day2 = pd.read_csv('/content/ndvi_values_part2.csv')\n",
        "\n",
        "# Combine the data from both days\n",
        "data_combined = pd.concat([data_day1, data_day2], axis=0, ignore_index=True)\n",
        "\n",
        "# Extract input features (NDVI1, NDVI2, NDVI3) and target variable (NDVI4)\n",
        "X = data_combined[['NDVI1', 'NDVI2', 'NDVI3']].values\n",
        "y = data_combined['NDVI3'].values\n",
        "\n",
        "# Train a predictive model (e.g., RandomForestRegressor)\n",
        "from sklearn.ensemble import RandomForestRegressor\n",
        "\n",
        "model = RandomForestRegressor(n_estimators=100, random_state=42)\n",
        "model.fit(X, y)\n",
        "\n",
        "# Make predictions for NDVI4 based on NDVI1, NDVI2, and NDVI3\n",
        "y_pred = model.predict(X)\n",
        "\n",
        "# Initialize counters for different NDVI ranges\n",
        "sparse = 0\n",
        "moderate = 0\n",
        "healthy = 0\n",
        "unhealthy = 0\n",
        "\n",
        "# Iterate through predicted values and count them in different ranges\n",
        "for value in y_pred:\n",
        "    if 0 < value < 0.2:\n",
        "        sparse += 1\n",
        "    elif 0.2 < value < 0.5:\n",
        "        moderate += 1\n",
        "    elif value >= 0.5:\n",
        "        healthy += 1\n",
        "    else:\n",
        "        unhealthy += 1\n",
        "\n",
        "# Print the counts for each NDVI range\n",
        "print(f'Number of values in different NDVI ranges:')\n",
        "print(f'Sparse: {sparse}')\n",
        "print(f'Moderate: {moderate}')\n",
        "print(f'Healthy: {healthy}')\n",
        "print(f'Unhealthy: {unhealthy}')\n"
      ],
      "metadata": {
        "id": "DAdM1T5OAny8"
      },
      "execution_count": null,
      "outputs": []
    },
    {
      "cell_type": "markdown",
      "source": [
        "Determning the percentages of the cover"
      ],
      "metadata": {
        "id": "tnliEPTnApgU"
      }
    },
    {
      "cell_type": "code",
      "source": [
        "total_values = len(y_pred)\n",
        "\n",
        "# Calculate the percentage for each NDVI range\n",
        "percentage_sparse = (sparse / total_values) * 100\n",
        "percentage_moderate = (moderate / total_values) * 100\n",
        "percentage_healthy = (healthy / total_values) * 100\n",
        "percentage_unhealthy = (unhealthy / total_values) * 100\n",
        "\n",
        "# Print the percentages\n",
        "print(f'Percentage of values in different NDVI ranges:')\n",
        "print(f'Sparse: {percentage_sparse:.2f}%')\n",
        "print(f'Moderate: {percentage_moderate:.2f}%')\n",
        "print(f'Healthy: {percentage_healthy:.2f}%')\n",
        "print(f'Unhealthy: {percentage_unhealthy:.2f}%')"
      ],
      "metadata": {
        "id": "MKvtchlKAsWT"
      },
      "execution_count": null,
      "outputs": []
    },
    {
      "cell_type": "markdown",
      "source": [
        "Percentages of cover for column 1"
      ],
      "metadata": {
        "id": "PLifBNzFAyAs"
      }
    },
    {
      "cell_type": "code",
      "source": [
        "import pandas as pd\n",
        "\n",
        "sparse = 0\n",
        "moderate = 0\n",
        "healthy = 0\n",
        "unhealthy = 0\n",
        "\n",
        "# Read the first CSV file into a DataFrame\n",
        "df1 = pd.read_csv('/content/ndvi_values_part1.csv')  # Replace 'file1.csv' with the path to your first CSV file\n",
        "\n",
        "# Read the second CSV file into another DataFrame\n",
        "df2 = pd.read_csv('/content/ndvi_values_part2.csv')  # Replace 'file2.csv' with the path to your second CSV file\n",
        "\n",
        "combined_df = pd.concat([df1, df2], ignore_index=True)\n",
        "column_length = len(combined_df['NDVI1'])\n",
        "\n",
        "# Loop through the values in the 'NDVI1' column for both DataFrames\n",
        "for value in combined_df['NDVI1']:\n",
        "    # Your 'if' condition here\n",
        "    if 0 < value < 0.2:\n",
        "        sparse += 1\n",
        "    elif 0.2 < value < 0.5:\n",
        "        moderate += 1\n",
        "    elif value >= 0.5:\n",
        "        healthy += 1\n",
        "    else:\n",
        "        unhealthy += 1\n",
        "\n",
        "# Print the counts for each NDVI range\n",
        "# print(f'Number of values in different NDVI ranges:')\n",
        "# print(f'Sparse: {sparse}')\n",
        "# print(f'Moderate: {moderate}')\n",
        "# print(f'Healthy: {healthy}')\n",
        "# print(f'Unhealthy: {unhealthy}')\n",
        "\n",
        "total_values = column_length\n",
        "percentage_sparse = (sparse / total_values) * 100\n",
        "percentage_moderate = (moderate / total_values) * 100\n",
        "percentage_healthy = (healthy / total_values) * 100\n",
        "percentage_unhealthy = (unhealthy / total_values) * 100\n",
        "\n",
        "\n",
        "# Print the percentages\n",
        "print(f'Percentage of values in different NDVI ranges:')\n",
        "print(f'Sparse: {percentage_sparse:.2f}%')\n",
        "print(f'Moderate: {percentage_moderate:.2f}%')\n",
        "print(f'Healthy: {percentage_healthy:.2f}%')\n",
        "print(f'Unhealthy: {percentage_unhealthy:.2f}%')"
      ],
      "metadata": {
        "id": "R-d8Lz-IA3wZ"
      },
      "execution_count": null,
      "outputs": []
    },
    {
      "cell_type": "markdown",
      "source": [
        "Percentages of cover for column 2"
      ],
      "metadata": {
        "id": "JeHooFr6A0yI"
      }
    },
    {
      "cell_type": "code",
      "source": [
        "import pandas as pd\n",
        "\n",
        "sparse = 0\n",
        "moderate = 0\n",
        "healthy = 0\n",
        "unhealthy = 0\n",
        "\n",
        "# Read the first CSV file into a DataFrame\n",
        "df1 = pd.read_csv('/content/ndvi_values_part1.csv')  # Replace 'file1.csv' with the path to your first CSV file\n",
        "\n",
        "# Read the second CSV file into another DataFrame\n",
        "df2 = pd.read_csv('/content/ndvi_values_part2.csv')  # Replace 'file2.csv' with the path to your second CSV file\n",
        "\n",
        "combined_df = pd.concat([df1, df2], ignore_index=True)\n",
        "column_length = len(combined_df['NDVI2'])\n",
        "\n",
        "# Loop through the values in the 'NDVI1' column for both DataFrames\n",
        "for value in combined_df['NDVI2']:\n",
        "    # Your 'if' condition here\n",
        "    if 0 < value < 0.2:\n",
        "        sparse += 1\n",
        "    elif 0.2 < value < 0.5:\n",
        "        moderate += 1\n",
        "    elif value >= 0.5:\n",
        "        healthy += 1\n",
        "    else:\n",
        "        unhealthy += 1\n",
        "\n",
        "# Print the counts for each NDVI range\n",
        "# print(f'Number of values in different NDVI ranges:')\n",
        "# print(f'Sparse: {sparse}')\n",
        "# print(f'Moderate: {moderate}')\n",
        "# print(f'Healthy: {healthy}')\n",
        "# print(f'Unhealthy: {unhealthy}')\n",
        "\n",
        "total_values = column_length\n",
        "percentage_sparse = (sparse / total_values) * 100\n",
        "percentage_moderate = (moderate / total_values) * 100\n",
        "percentage_healthy = (healthy / total_values) * 100\n",
        "percentage_unhealthy = (unhealthy / total_values) * 100\n",
        "\n",
        "\n",
        "# Print the percentages\n",
        "print(f'Percentage of values in different NDVI ranges:')\n",
        "print(f'Sparse: {percentage_sparse:.2f}%')\n",
        "print(f'Moderate: {percentage_moderate:.2f}%')\n",
        "print(f'Healthy: {percentage_healthy:.2f}%')\n",
        "print(f'Unhealthy: {percentage_unhealthy:.2f}%')"
      ],
      "metadata": {
        "id": "AlUlEPMPA4dp"
      },
      "execution_count": null,
      "outputs": []
    },
    {
      "cell_type": "markdown",
      "source": [
        "Percentages of cover for column 3\n",
        "\n",
        "\n"
      ],
      "metadata": {
        "id": "s_Gw1b-3A2Lz"
      }
    },
    {
      "cell_type": "code",
      "source": [
        "import pandas as pd\n",
        "\n",
        "sparse = 0\n",
        "moderate = 0\n",
        "healthy = 0\n",
        "unhealthy = 0\n",
        "\n",
        "# Read the first CSV file into a DataFrame\n",
        "df1 = pd.read_csv('/content/ndvi_values_part1.csv')  # Replace 'file1.csv' with the path to your first CSV file\n",
        "\n",
        "# Read the second CSV file into another DataFrame\n",
        "df2 = pd.read_csv('/content/ndvi_values_part2.csv')  # Replace 'file2.csv' with the path to your second CSV file\n",
        "\n",
        "combined_df = pd.concat([df1, df2], ignore_index=True)\n",
        "column_length = len(combined_df['NDVI3'])\n",
        "\n",
        "# Loop through the values in the 'NDVI1' column for both DataFrames\n",
        "for value in combined_df['NDVI3']:\n",
        "    # Your 'if' condition here\n",
        "    if 0 < value < 0.2:\n",
        "        sparse += 1\n",
        "    elif 0.2 < value < 0.5:\n",
        "        moderate += 1\n",
        "    elif value >= 0.5:\n",
        "        healthy += 1\n",
        "    else:\n",
        "        unhealthy += 1\n",
        "\n",
        "# Print the counts for each NDVI range\n",
        "# print(f'Number of values in different NDVI ranges:')\n",
        "# print(f'Sparse: {sparse}')\n",
        "# print(f'Moderate: {moderate}')\n",
        "# print(f'Healthy: {healthy}')\n",
        "# print(f'Unhealthy: {unhealthy}')\n",
        "\n",
        "total_values = column_length\n",
        "percentage_sparse = (sparse / total_values) * 100\n",
        "percentage_moderate = (moderate / total_values) * 100\n",
        "percentage_healthy = (healthy / total_values) * 100\n",
        "percentage_unhealthy = (unhealthy / total_values) * 100\n",
        "\n",
        "\n",
        "# Print the percentages\n",
        "print(f'Percentage of values in different NDVI ranges:')\n",
        "print(f'Sparse: {percentage_sparse:.2f}%')\n",
        "print(f'Moderate: {percentage_moderate:.2f}%')\n",
        "print(f'Healthy: {percentage_healthy:.2f}%')\n",
        "print(f'Unhealthy: {percentage_unhealthy:.2f}%')"
      ],
      "metadata": {
        "id": "k8UH-xGJA7za"
      },
      "execution_count": null,
      "outputs": []
    },
    {
      "cell_type": "markdown",
      "source": [
        "Displaying the Output"
      ],
      "metadata": {
        "id": "FGV3dHWHBFCB"
      }
    },
    {
      "cell_type": "code",
      "source": [
        "from PIL import Image, ImageDraw, ImageFont\n",
        "import matplotlib.pyplot as plt\n",
        "\n",
        "image1 = Image.open(\"/content/2_1_0.JPG\")  #POVIDE INPUT IMAGES HERE\n",
        "image2 = Image.open(\"/content/3_1_0.JPG\")\n",
        "image3 = Image.open(\"/content/4_1_0.JPG\")\n",
        "\n",
        "font_path = \"/content/K22 Eclair.ttf\"  #DOWNLOAD FONT, THEN PROVIDE THE .TTF FILE(AFTER EXTRACTION) LOCATION HERE FROM COLLAB\n",
        "font_size = 50  #ADJUST\n",
        "\n",
        "# Load the font with the specified size\n",
        "font = ImageFont.truetype(font_path, font_size)\n",
        "\n",
        "# Get the dimensions of the input images\n",
        "image_width, image_height = image1.size\n",
        "\n",
        "combined_width = image_width * 4  # (Three+1) (images+PREDICTED) side by side ,SO CHANGE THIS ACCORDING TO IMAGES\n",
        "combined_height = image_height + 300  # Adjust for labels ,CHANGE THIS +ENTITIY AS YOU ADD FURTHER DETAILS\n",
        "\n",
        "# Create a new image to combine the three images\n",
        "combined_image = Image.new(\"RGB\", (combined_width, combined_height), \"white\")\n",
        "draw = ImageDraw.Draw(combined_image)\n",
        "\n",
        "# Create data labels for each image\n",
        "labels1 = [\"Date\", \"Healthy\", \"Unhealthy\", \"Moderate\",\"Sparse\"]  #INCREASE DECREASE AS YOU WANT\n",
        "labels2 = [\"Date\", \"Healthy\", \"Unhealthy\", \"Moderate\",\"Sparse\"]\n",
        "labels3 = [\"Date\", \"Healthy\", \"Unhealthy\", \"Moderate\",\"Sparse\"]\n",
        "labels4 = [\"Predicted\" ,\"Future Date\", \"Healthy\", \"Unhealthy\", \"Moderate\",\"Sparse\"]  #THIS IS THE FINAL PREDICTED VALUE\n",
        "\n",
        "# Paste the three images side by side onto the combined image\n",
        "combined_image.paste(image1, (0, 0))\n",
        "combined_image.paste(image2, (image_width, 0))\n",
        "combined_image.paste(image3, (image_width * 2, 0))\n",
        "\n",
        "label_x = 10\n",
        "\n",
        "for i in range(5): #5 IS DUE TO LABELS\n",
        "    label_y1 = image_height + 30 + i * 50\n",
        "    label_y2 = label_y1 + image_height + 30\n",
        "    label_y3 = label_y2 + image_height + 30\n",
        "\n",
        "    draw.text((label_x, label_y1), labels1[i], fill=\"black\", font=font)\n",
        "    draw.text((label_x + image_width, label_y1), labels2[i], fill=\"black\", font=font)\n",
        "    draw.text((label_x + 2 * image_width, label_y1), labels3[i], fill=\"black\", font=font)\n",
        "\n",
        "font_size = 50\n",
        "font = ImageFont.truetype(font_path, font_size)\n",
        "for i in range(5): #5 IS DUE TO LABELS\n",
        "  label_y1 = image_height/2 + 30 + i * 50\n",
        "  draw.text((label_x + 3 * image_width+100, label_y1), labels4[i], fill=\"black\", font=font) #WHENEVER YOU ADD A LABEL, ALWAYS ADD THIS PART\n",
        "\n",
        "\n",
        "# Save the combined image\n",
        "combined_image.save(\"combined_image.jpg\")\n",
        "\n",
        "# Show or display the combined image using matplotlib\n",
        "plt.imshow(combined_image)\n",
        "plt.axis('off')\n",
        "plt.show()\n",
        "\n",
        "\n",
        "\n",
        "\n",
        "# Save the combined image with a larger size\n",
        "combined_image_large_path = \"combined_image_large.jpg\"\n",
        "combined_image_large = combined_image.resize((combined_width * 2, combined_height * 2), Image.ANTIALIAS)\n",
        "combined_image_large.save(combined_image_large_path)\n",
        "\n",
        "# Provide a download link for the larger image\n",
        "from IPython.display import FileLink\n",
        "display(FileLink(combined_image_large_path))\n",
        "\n",
        "\n",
        "\n",
        "\n",
        "\n",
        "# Display the combined image in a larger size\n",
        "plt.figure(figsize=(15, 7))\n",
        "plt.imshow(combined_image_large)\n",
        "plt.axis('off')\n",
        "plt.show()"
      ],
      "metadata": {
        "id": "I1op_q5DBGwo"
      },
      "execution_count": null,
      "outputs": []
    },
    {
      "cell_type": "markdown",
      "source": [
        "END"
      ],
      "metadata": {
        "id": "DAlNeS1FBKhh"
      }
    }
  ]
}